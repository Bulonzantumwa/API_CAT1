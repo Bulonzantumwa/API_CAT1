{
  "nbformat": 4,
  "nbformat_minor": 0,
  "metadata": {
    "colab": {
      "provenance": [],
      "authorship_tag": "ABX9TyOFaiOlteTqKhUILwIM7N1t",
      "include_colab_link": true
    },
    "kernelspec": {
      "name": "python3",
      "display_name": "Python 3"
    },
    "language_info": {
      "name": "python"
    }
  },
  "cells": [
    {
      "cell_type": "markdown",
      "metadata": {
        "id": "view-in-github",
        "colab_type": "text"
      },
      "source": [
        "<a href=\"https://colab.research.google.com/github/Bulonzantumwa/API_CAT1/blob/main/DAV_Lab_exercise.ipynb\" target=\"_parent\"><img src=\"https://colab.research.google.com/assets/colab-badge.svg\" alt=\"Open In Colab\"/></a>"
      ]
    },
    {
      "cell_type": "code",
      "execution_count": 3,
      "metadata": {
        "colab": {
          "base_uri": "https://localhost:8080/"
        },
        "id": "PA4rWt72Zvps",
        "outputId": "ee5ccc45-5350-477f-9627-d3b63e3a6799"
      },
      "outputs": [
        {
          "output_type": "stream",
          "name": "stdout",
          "text": [
            "Bulonza Ntumwa Steeve\n"
          ]
        }
      ],
      "source": [
        "# a. Python program that prints your name\n",
        "print(\"Bulonza Ntumwa Steeve\")\n",
        "\n"
      ]
    },
    {
      "cell_type": "code",
      "source": [
        "# b. Program that displays the second stanza of the Kenyan national anthem.\n",
        "kenyan_anthem = \"O God of all creation, Bless this our land and nation, \\n Justice be our shield and defender, May we dwell in unity, Peace and liberty.\"\n",
        "print(kenyan_anthem)\n"
      ],
      "metadata": {
        "colab": {
          "base_uri": "https://localhost:8080/"
        },
        "id": "hhFvcEEPanB3",
        "outputId": "2ddfe033-2378-4e97-8a0d-4ca87415e1d2"
      },
      "execution_count": 4,
      "outputs": [
        {
          "output_type": "stream",
          "name": "stdout",
          "text": [
            "O God of all creation, Bless this our land and nation, \n",
            " Justice be our shield and defender, May we dwell in unity, Peace and liberty.\n"
          ]
        }
      ]
    },
    {
      "cell_type": "code",
      "source": [
        "# c. Program that solves and shows the summation of 64 + 32.\n",
        "print(64 + 32)"
      ],
      "metadata": {
        "colab": {
          "base_uri": "https://localhost:8080/"
        },
        "id": "EmzVqNf-bAPU",
        "outputId": "eb626ab7-79f8-4868-9c86-f7012ceb4073"
      },
      "execution_count": 5,
      "outputs": [
        {
          "output_type": "stream",
          "name": "stdout",
          "text": [
            "96\n"
          ]
        }
      ]
    },
    {
      "cell_type": "code",
      "source": [
        "# d.  Program that prompts a user to input their phone number.\n",
        "phone_number = input(\"Enter your phone number: \")\n",
        "print(\"Registered number:\", phone_number)"
      ],
      "metadata": {
        "colab": {
          "base_uri": "https://localhost:8080/"
        },
        "id": "32_bcocFbOkw",
        "outputId": "d1d1f2e4-4049-44bd-ecd2-04006b2bb8bd"
      },
      "execution_count": 6,
      "outputs": [
        {
          "output_type": "stream",
          "name": "stdout",
          "text": [
            "Enter your phone number: 0790142567\n",
            "Registered number: 0790142567\n"
          ]
        }
      ]
    },
    {
      "cell_type": "code",
      "source": [
        "# e.  program that asks the user for a number of days. The program then\n",
        "#prints out the number of seconds in the amount of days given.\n",
        "days = int(input(\"Enter days: \"))\n",
        "seconds = days * 24 * 60 * 60\n",
        "print(f\"{days} days = {seconds} seconds\")"
      ],
      "metadata": {
        "colab": {
          "base_uri": "https://localhost:8080/"
        },
        "id": "9LDMi-m1bbAU",
        "outputId": "21fdd6ca-27b9-48f9-e9d1-44cdb636152b"
      },
      "execution_count": 7,
      "outputs": [
        {
          "output_type": "stream",
          "name": "stdout",
          "text": [
            "Enter days: 3\n",
            "3 days = 259200 seconds\n"
          ]
        }
      ]
    },
    {
      "cell_type": "code",
      "source": [
        "# program that asks a user to input the radius then the program\n",
        "#calculates the volume of a sphere (the formula for the volume is (4/3)πr3).\n",
        "#Use the exponential operator in python to compute (r3)\n",
        "radius = float(input(\"Enter radius: \"))\n",
        "volume = (4/3) * 3.14159 * (radius ** 3)\n",
        "print(f\"Volume: {volume:.2f}\")"
      ],
      "metadata": {
        "colab": {
          "base_uri": "https://localhost:8080/"
        },
        "id": "XCfBlYvxcXVI",
        "outputId": "dd30d6d2-63f0-4c61-ada7-8c5adcbfd8d4"
      },
      "execution_count": 8,
      "outputs": [
        {
          "output_type": "stream",
          "name": "stdout",
          "text": [
            "Enter radius: 3\n",
            "Volume: 113.10\n"
          ]
        }
      ]
    },
    {
      "cell_type": "code",
      "source": [],
      "metadata": {
        "id": "1AU7FRl7dhx_"
      },
      "execution_count": null,
      "outputs": []
    }
  ]
}